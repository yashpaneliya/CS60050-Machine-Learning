{
  "nbformat": 4,
  "nbformat_minor": 0,
  "metadata": {
    "colab": {
      "provenance": []
    },
    "kernelspec": {
      "name": "python3",
      "display_name": "Python 3"
    },
    "language_info": {
      "name": "python"
    }
  },
  "cells": [
    {
      "cell_type": "code",
      "execution_count": null,
      "metadata": {
        "id": "vLoCXbgHFi_b"
      },
      "outputs": [],
      "source": [
        "import numpy as np\n",
        "import pandas as pd\n",
        "import seaborn as sns\n",
        "import matplotlib.pyplot as plt\n",
        "import cvxopt\n",
        "from sklearn.metrics import classification_report\n",
        "from numpy import linalg"
      ]
    },
    {
      "cell_type": "code",
      "source": [
        "df = pd.read_csv('/content/spambase.data', header=None)\n",
        "df"
      ],
      "metadata": {
        "id": "C0DUuzaFIRtA"
      },
      "execution_count": null,
      "outputs": []
    },
    {
      "cell_type": "code",
      "source": [
        "# Calculating NULL percentage in each feature\n",
        "((df.isnull().sum() / len(df))*100).sort_values(ascending=False).to_frame()"
      ],
      "metadata": {
        "id": "21tVmkb1IdBi"
      },
      "execution_count": null,
      "outputs": []
    },
    {
      "cell_type": "code",
      "source": [
        "# Randomize the order of rows in dataset\n",
        "df = df.reindex(np.random.permutation(df.index)) \n",
        "df.head()"
      ],
      "metadata": {
        "id": "Z5E9ZWK1IgGc"
      },
      "execution_count": null,
      "outputs": []
    },
    {
      "cell_type": "code",
      "source": [
        "# reset the indices of df\n",
        "df = df.reset_index(drop=True)"
      ],
      "metadata": {
        "id": "Sq3d3ZW-Inc6"
      },
      "execution_count": null,
      "outputs": []
    },
    {
      "cell_type": "code",
      "source": [
        "df.head()"
      ],
      "metadata": {
        "id": "_Wn6cT-PIsdN"
      },
      "execution_count": null,
      "outputs": []
    },
    {
      "cell_type": "code",
      "source": [
        "df[57] = df[57].replace(0,-1)\n",
        "df[57] = df[57].astype(float)\n",
        "df[57]"
      ],
      "metadata": {
        "id": "HSFT__DnrClh"
      },
      "execution_count": null,
      "outputs": []
    },
    {
      "cell_type": "code",
      "source": [
        "# Separating X and y\n",
        "X = df.iloc[:, :-1].values\n",
        "y = df.iloc[:, -1].values\n",
        "\n",
        "# generating splitting indices for 70% separation\n",
        "split_idx = int(0.7 * len(df))"
      ],
      "metadata": {
        "id": "GmQ-bVXBIu7h"
      },
      "execution_count": null,
      "outputs": []
    },
    {
      "cell_type": "code",
      "source": [
        "# Splitting into train and test dataset\n",
        "X_train = X[:split_idx]\n",
        "X_test = X[split_idx:]\n",
        "y_train = y[:split_idx]\n",
        "y_test = y[split_idx:]"
      ],
      "metadata": {
        "id": "PAhkWKPpI1un"
      },
      "execution_count": null,
      "outputs": []
    },
    {
      "cell_type": "code",
      "source": [
        "print(X_train.shape)\n",
        "print(X_test.shape)\n",
        "print(y_train.shape)\n",
        "print(y_test.shape)"
      ],
      "metadata": {
        "id": "iRY_2i8qI4Wi"
      },
      "execution_count": null,
      "outputs": []
    },
    {
      "cell_type": "code",
      "source": [
        "# Standardize the features\n",
        "mean = np.mean(X_train, axis=0)\n",
        "std = np.std(X_train, axis=0)\n",
        "\n",
        "X_train = (X_train - mean) / std\n",
        "\n",
        "X_test = (X_test - mean) / std"
      ],
      "metadata": {
        "id": "yy0PqkjyI7-f"
      },
      "execution_count": null,
      "outputs": []
    },
    {
      "cell_type": "code",
      "source": [
        "def linear_kernel(x1, x2):\n",
        "    return np.dot(x1, x2)\n",
        "\n",
        "def get_polynomial_kernel(p = 3):\n",
        "    return lambda x1, x2: (1 + np.dot(x1, x2)) ** p\n",
        "\n",
        "def get_rbf_kernel(gamma = 0.3):\n",
        "    return lambda x1, x2: np.exp(-gamma * linalg.norm(x1 - x2) ** 2)\n",
        "\n",
        "class SVM(object):\n",
        "\n",
        "    def __init__(self, kernel=linear_kernel, C=None):\n",
        "        self.kernel = kernel\n",
        "        self.C = C\n",
        "        if self.C is not None: self.C = float(self.C)\n",
        "\n",
        "    def fit(self, X, y):\n",
        "        n_samples, n_features = X.shape\n",
        "\n",
        "        # Gram matrix K[i, j] = K(x_i, x_j)\n",
        "        K = np.zeros((n_samples, n_samples))\n",
        "        for i in range(n_samples):\n",
        "            for j in range(n_samples):\n",
        "                K[i,j] = self.kernel(X[i], X[j])\n",
        "\n",
        "        # Outer-product gives a matrix such that [i, j] = y_i * y_j\n",
        "        # Element-wise multiplication gives P, such that:\n",
        "        # P[i, j] = y_i * y_j * K(x_i, x_j)\n",
        "        #\n",
        "        # First factor of objective function:\n",
        "        # 1/2 x^T P x = 1/2 * sum(alpha_i * alpha_j * y_i * y_j * K(x_i, x_j)\n",
        "        P = cvxopt.matrix(np.outer(y, y) * K)\n",
        "\n",
        "        # 2nd factor of objective function:\n",
        "        # q^T x = -1 * sum(alpha)\n",
        "        q = cvxopt.matrix(np.ones(n_samples) * -1)\n",
        "\n",
        "        # Eq constraint (Ax = b): sum(alpha * y) = 0\n",
        "        A = cvxopt.matrix(y, (1, n_samples))\n",
        "        b = cvxopt.matrix(0.0)\n",
        "\n",
        "        # Ineq constraint (Gx <= h):\n",
        "        # alpha <= C and -alpha <= 0 (equivalent to alpha >= 0)\n",
        "        if self.C is None:\n",
        "            G = cvxopt.matrix(np.identity(n_samples) * -1)\n",
        "            h = cvxopt.matrix(np.zeros(n_samples))\n",
        "        else:\n",
        "            tmp1 = np.identity(n_samples) * -1\n",
        "            tmp2 = np.identity(n_samples)\n",
        "            G = cvxopt.matrix(np.vstack((tmp1, tmp2)))\n",
        "            tmp1 = np.zeros(n_samples)\n",
        "            tmp2 = np.ones(n_samples) * self.C\n",
        "            h = cvxopt.matrix(np.hstack((tmp1, tmp2)))\n",
        "\n",
        "        # solve QP problem\n",
        "        solution = cvxopt.solvers.qp(P, q, G, h, A, b)\n",
        "\n",
        "        # Lagrange multipliers\n",
        "        a = np.ravel(solution['x'])\n",
        "\n",
        "        # Support vectors have non zero lagrange multipliers\n",
        "        sv = a > 1e-5\n",
        "        ind = np.arange(len(a))[sv]\n",
        "        self.a = a[sv]\n",
        "        self.sv = X[sv]\n",
        "        self.sv_y = y[sv]\n",
        "        print(f'{len(self.a)} support vectors out of {n_samples} points')\n",
        "\n",
        "        # Intercept - average over indices where 0 < alpha_i < C\n",
        "        self.b = 0\n",
        "        alpha_diff_C_count = 0\n",
        "        is_eq_to_C = lambda a: self.C is not None and a > self.C - 1e-5\n",
        "\n",
        "        for n in range(len(self.a)):\n",
        "            if is_eq_to_C(self.a[n]):\n",
        "                continue\n",
        "\n",
        "            alpha_diff_C_count += 1\n",
        "            self.b += self.sv_y[n]\n",
        "            self.b -= np.sum(self.a * self.sv_y * K[ind[n],sv])\n",
        "\n",
        "        self.b = self.b / alpha_diff_C_count if alpha_diff_C_count > 0 else 0\n",
        "\n",
        "        # Weight vector: we can't compute w if we are using a kernel\n",
        "        # since the sum would be over alpha * y * phi(x), where\n",
        "        # phi is the implicit mapping embedded in the kernel\n",
        "        if self.kernel == linear_kernel:\n",
        "            self.w = np.zeros(n_features)\n",
        "            for n in range(len(self.a)):\n",
        "                self.w += self.a[n] * self.sv_y[n] * self.sv[n]\n",
        "        else:\n",
        "            self.w = None\n",
        "\n",
        "    def project(self, X):\n",
        "        if self.w is not None:\n",
        "            return np.dot(X, self.w) + self.b\n",
        "        else:\n",
        "            y_predict = np.zeros(len(X))\n",
        "            for i in range(len(X)):\n",
        "                s = 0\n",
        "                for a, sv_y, sv in zip(self.a, self.sv_y, self.sv):\n",
        "                    s += a * sv_y * self.kernel(X[i], sv)\n",
        "                y_predict[i] = s\n",
        "            return y_predict + self.b\n",
        "\n",
        "    def predict(self, X):\n",
        "        return np.sign(self.project(X))"
      ],
      "metadata": {
        "id": "4KeuMG1QwBfA"
      },
      "execution_count": null,
      "outputs": []
    },
    {
      "cell_type": "code",
      "source": [
        "svm2 = SVM(C=10)\n",
        "svm2.fit(X_train, y_train)\n",
        "\n",
        "y_pred2 = []\n",
        "for x in X_test:\n",
        "  y_pred2.append(svm2.predict(x))\n",
        "\n",
        "print(classification_report(y_pred2, y_test))"
      ],
      "metadata": {
        "id": "r3SO3TSZw79c"
      },
      "execution_count": null,
      "outputs": []
    },
    {
      "cell_type": "markdown",
      "source": [
        "1 = SPAM\n",
        "\n",
        "-1 = NOT SPAM"
      ],
      "metadata": {
        "id": "DMI8WYfD2n1v"
      }
    },
    {
      "cell_type": "code",
      "source": [],
      "metadata": {
        "id": "J9HIchWJxXYL"
      },
      "execution_count": null,
      "outputs": []
    }
  ]
}